{
 "cells": [
  {
   "cell_type": "markdown",
   "id": "90749bee",
   "metadata": {
    "slideshow": {
     "slide_type": "slide"
    }
   },
   "source": [
    "# Zipf"
   ]
  },
  {
   "cell_type": "markdown",
   "id": "68ae01d3",
   "metadata": {
    "slideshow": {
     "slide_type": "slide"
    }
   },
   "source": [
    "# A1. Application of Zipf's Law\n",
    "222.000.000 Wortforms (tokens):\n",
    "\n",
    "|  Word  | Frequency | rank |\n",
    "|-------|-----------|------|\n",
    "| sich    | 1.680.106       | 10   | \n",
    "| immer   | 197.502       | 100   | \n",
    "| Mio | 36.119        | 500  | \n",
    "| Medien | 19.041    | 1000 | \n",
    "\n",
    "\n",
    "\n",
    "(a) Estimate Zipf's constant from this data.\n",
    "   \n",
    "(b) From that estimation derive:\n",
    "    \n",
    "    - What will be the number of different word forms (types)? \n",
    "    - How many of them will appear only once in the text? \n",
    "    - Related to the total number of tokens: How high will be the share of word forms that occur only once in the text? \n",
    " (c) After estimation, assume the word with the lowest rank and calulate the Zipf constant mathematically by using the Harmonic Series.\n",
    " \n",
    " (d) What is the difference of the two methods to obtain $c$?"
   ]
  },
  {
   "cell_type": "markdown",
   "id": "b71bb308",
   "metadata": {
    "slideshow": {
     "slide_type": "slide"
    }
   },
   "source": [
    "## Solution\n",
    "|  Word  | Frequency | rank | f*r|\n",
    "|-------|-----------|------|------|\n",
    "| sich    | 1.680.106       | 10   | 16.801.060 |\n",
    "| immer   | 197.502       | 100   | 19.750.200 |\n",
    "| Mio | 36.119        | 500  |  18.059.500 |\n",
    "| Medien | 19.041    | 1000 | 19.041.000 |\n",
    "\n",
    "    a) (16.801.060 + 19.750.200 + 18.059.500 + 19.041.000) / 4 / 222.000.000 = 0.08294117\n",
    "    b)\n",
    "        -  ~ 18.412.940\n",
    "        -  ~ 9.206.470\n",
    "        -  ~ 4.1 %\n",
    "\n",
    "    c) 1/H: 0.05977799, harmonic mean:"
   ]
  },
  {
   "cell_type": "markdown",
   "id": "8b111c7d",
   "metadata": {
    "slideshow": {
     "slide_type": "slide"
    }
   },
   "source": [
    "# A2. - Further Application of Zipf’s Law\n",
    "\n",
    "Given a text corpus of German with 1 million sentences and 16 015 429 tokens. (Assume c=0.08)\n",
    "\n",
    "    (a) How many words occur 100 times or more in this text according to Zipf's law?\n",
    "\n",
    "    (b) How large is the vocabulary according to Zipf's law?\n",
    "\n",
    "    (c) According to Zipf's law, how many words occur exactly 100 times in this text?"
   ]
  },
  {
   "cell_type": "markdown",
   "id": "313911de",
   "metadata": {
    "slideshow": {
     "slide_type": "slide"
    }
   },
   "source": [
    "### Solution:\n",
    "\n",
    "a) $$ r_n = c \\frac{N}{100} = 12812$$\n",
    "\n",
    "b) $$ |V| = cN = 0.08 \\cdot 16015429 = 1281234 $$\n",
    "\n",
    "c) $$ r_{100} - r_{101} = \\frac{cN}{n(n+1)} = 127 $$\n"
   ]
  }
 ],
 "metadata": {
  "celltoolbar": "Slideshow",
  "interpreter": {
   "hash": "fc52c9ea19f2c1f7307cbbf288df6f7ca4f1a3270fea6ad631211a792893a729"
  },
  "kernelspec": {
   "display_name": "Python 3 (ipykernel)",
   "language": "python",
   "name": "python3"
  },
  "language_info": {
   "codemirror_mode": {
    "name": "ipython",
    "version": 3
   },
   "file_extension": ".py",
   "mimetype": "text/x-python",
   "name": "python",
   "nbconvert_exporter": "python",
   "pygments_lexer": "ipython3",
   "version": "3.10.12"
  }
 },
 "nbformat": 4,
 "nbformat_minor": 5
}
