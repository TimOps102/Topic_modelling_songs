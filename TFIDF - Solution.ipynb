{
 "cells": [
  {
   "cell_type": "markdown",
   "id": "4c672af5",
   "metadata": {},
   "source": [
    "# TF-IDF Exercise"
   ]
  },
  {
   "cell_type": "markdown",
   "id": "a4d5dae3",
   "metadata": {},
   "source": [
    "You have the following (tokenized) document collection:\n",
    "\n",
    "|id | words|\n",
    "|---|------|\n",
    "| 1 | like, like, fruit, fly, fly|\n",
    "| 2 | bee, wasp, like|\n",
    "| 3 | fruit, fly|\n",
    "| 4 | bee, wasp, fruit|\n",
    "| 5| fruit, fruit, fruit, fly|"
   ]
  },
  {
   "cell_type": "markdown",
   "id": "b0f2bfc7",
   "metadata": {},
   "source": [
    "1. Determine the Document Term Matrix.\n",
    "\n",
    "2. Calculate all the TFIDF values. (For simplicity: Use the max-normalization, such that the most frequent term of every document has relative term frequency 1. Equivalent to K-smoothing from the lecture with $K=0$)"
   ]
  },
  {
   "cell_type": "markdown",
   "id": "6a6f256f",
   "metadata": {},
   "source": [
    "### Solution\n",
    "\n",
    "Document Term Matrix:\n",
    "\n",
    "| term |  D1| D2|D3|D4|D5| IDF|\n",
    "|------|----|---|--|--|--|---|\n",
    "| bee| 0|1|0|1|0|\n",
    "| wasp|0|1|0|1|0| \n",
    "| like|2|1|0|0|0| \n",
    "| fruit|1|0|1|1|1|\n",
    "| fly|2|0|1|0|3|\n",
    "\n",
    "\n",
    "Tf IDF Values:\n",
    "\n",
    "| term |  D1| D2|D3|D4|D5| IDF|\n",
    "|------|----|---|--|--|--|---|\n",
    "| bee| 0|1|0|1|0|0.398|\n",
    "| wasp|0|1|0|1|0|0.398|\n",
    "| like|1|1|0|0|0| 0.398|\n",
    "| fruit|0.5|0|1|1|0.333|0.097|\n",
    "| fly|1|0|1|0|1|1|\n",
    "\n",
    "\n",
    "\n",
    "\n",
    "Tf-IDF Values:\n",
    "\n",
    "| term |  D1| D2|D3|D4|D5|\n",
    "|------|----|---|--|--|--|\n",
    "| bee  | 0  |0.398|0|0.398|0|\n",
    "| wasp |0   |0.398|0|0.398|0|\n",
    "| like |0.398   |0.398 |0|0|0|\n",
    "| fruit|0.048   |0|0.097|0.097|0.032|\n",
    "| fly  |0.222|0|0.222|0|0.222|\n",
    "\n"
   ]
  },
  {
   "cell_type": "markdown",
   "id": "1520816d",
   "metadata": {},
   "source": [
    "# A2 - Application Retrieval\n",
    "\n",
    "We can use the tf-idf table to determine the similarity of two documents. Each document can be represented as the vector of its tfidf weighted words. The cosine of the two vectors is often used to calculate a similarity measure.\n",
    "\n",
    "When for example a user searches for \"fruit fly\", you can interpret the query as a new document and translate the query into a vector corresponding to your vocabulary. Calculate the cosine similarity with every document in your corpus and  return the best match.\n",
    "\n",
    "$$ cos(\\vec{q},\\vec{d}) = \\frac{\\vec{q}\\cdot\\vec{d}}{\\lVert\\vec{q}\\rVert\\cdot\\lVert\\vec{d}\\rVert}$$\n",
    "\n",
    "\n",
    "Which document would the queries $Q_1=[fruit, fly]$ and $Q_2=[bee, fly]$ return?\n",
    "\n",
    "What are limitations and problems \n",
    "of this simple approach?\n"
   ]
  },
  {
   "cell_type": "markdown",
   "id": "3770b91b",
   "metadata": {},
   "source": [
    "### Solution\n",
    "\n",
    "$\\vec{Q} = (0,0,0,1,1)^T$\n",
    "\n",
    "Similarities :\n",
    "\n",
    "| D1| D2| D3 | D4 | D5|\n",
    "|---|---|----|----|---|\n",
    "| 0.5| 0 | 1 | 0.068| 0.964|\n",
    "\n",
    "Document D3 would be returned"
   ]
  },
  {
   "cell_type": "markdown",
   "id": "c57ebfe3",
   "metadata": {},
   "source": [
    "\n",
    "$\\vec{Q} = (1,0,0,0,1)^T$\n",
    "\n",
    "Similarities :\n",
    "\n",
    "| D1| D2| D3 | D4 | D5|\n",
    "|---|---|----|----|---|\n",
    "| 0.342| 0.408| 0.647 | 0.493| 0.700|\n",
    "\n",
    "Document D5 would be returned"
   ]
  },
  {
   "cell_type": "code",
   "execution_count": 17,
   "id": "226980ab",
   "metadata": {},
   "outputs": [
    {
     "data": {
      "text/plain": [
       "array([0.34255996, 0.40824829, 0.64795497, 0.48725996, 0.69987334])"
      ]
     },
     "execution_count": 17,
     "metadata": {},
     "output_type": "execute_result"
    }
   ],
   "source": [
    "import numpy as np\n",
    "q = np.array([1,0,0,0, 1])\n",
    "d = np.array([[0,0,0.398,0.048,0.222],\n",
    "              [0.398,0.398,0.398,0,0],\n",
    "              [0,0,0,0.097,0.222],\n",
    "              [0.298,0.298,0,0.097,0],\n",
    "              [0,0,0,0.032,0.222]])\n",
    "d@q / np.linalg.norm(q)/np.linalg.norm(d, axis=-1)"
   ]
  },
  {
   "cell_type": "markdown",
   "id": "835b0651",
   "metadata": {},
   "source": [
    "Problems:\n",
    "\n",
    "- OOV (Out-of-vocabulary)\n",
    "- Memory (technical problem)\n",
    "- No disambiguation\n",
    "- Stemming, wordforms?"
   ]
  }
 ],
 "metadata": {
  "kernelspec": {
   "display_name": "Python 3 (ipykernel)",
   "language": "python",
   "name": "python3"
  },
  "language_info": {
   "codemirror_mode": {
    "name": "ipython",
    "version": 3
   },
   "file_extension": ".py",
   "mimetype": "text/x-python",
   "name": "python",
   "nbconvert_exporter": "python",
   "pygments_lexer": "ipython3",
   "version": "3.10.12"
  }
 },
 "nbformat": 4,
 "nbformat_minor": 5
}
